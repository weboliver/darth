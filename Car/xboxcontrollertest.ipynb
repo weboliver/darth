{
 "cells": [
  {
   "cell_type": "code",
   "execution_count": null,
   "metadata": {},
   "outputs": [],
   "source": [
    "from XBoxController.xbox import ConnectXboxBT, ReadXboxBT\n",
    "\n",
    "device = ConnectXboxBT()\n",
    "\n",
    "ReadXboxBT(device)"
   ]
  },
  {
   "cell_type": "code",
   "execution_count": null,
   "metadata": {},
   "outputs": [],
   "source": [
    "#import evdev\n",
    "from evdev import InputDevice, categorize, ecodes\n",
    "\n",
    "#creates object 'gamepad' to store the data\n",
    "#you can call it whatever you like\n",
    "gamepad = InputDevice('/dev/input/event8')\n",
    "\n",
    "#prints out device info at start\n",
    "print(gamepad)\n",
    "\n",
    "#evdev takes care of polling the controller in a loop\n",
    "for event in gamepad.read_loop():\n",
    "    print(event.type, event.value)\n",
    "    #Boutons | buttons \n",
    "    if event.type == ecodes.EV_KEY:\n",
    "        print(event)\n",
    "    #Gamepad analogique | Analog gamepad\n",
    "    elif event.type == ecodes.EV_ABS:\n",
    "        absevent = categorize(event)\n",
    "        print(ecodes.bytype[absevent.event.type][absevent.event.code], absevent.event.value)"
   ]
  }
 ],
 "metadata": {
  "interpreter": {
   "hash": "31f2aee4e71d21fbe5cf8b01ff0e069b9275f58929596ceb00d14d90e3e16cd6"
  },
  "kernelspec": {
   "display_name": "Python 3.6.9 64-bit",
   "name": "python3"
  },
  "language_info": {
   "codemirror_mode": {
    "name": "ipython",
    "version": 3
   },
   "file_extension": ".py",
   "mimetype": "text/x-python",
   "name": "python",
   "nbconvert_exporter": "python",
   "pygments_lexer": "ipython3",
   "version": "3.6.9"
  },
  "orig_nbformat": 4
 },
 "nbformat": 4,
 "nbformat_minor": 2
}
