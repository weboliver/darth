{
 "cells": [
  {
   "cell_type": "code",
   "execution_count": null,
   "metadata": {},
   "outputs": [],
   "source": [
    "from Sensoren.Ultraschall.hcrsr04 import UltraschallHCRSR04\n",
    "from Sensoren.sensors import Sensors\n",
    "import time\n",
    "\n",
    "sensoren = Sensors()\n",
    "hcrsr04_sensor1 = UltraschallHCRSR04(23, 21)\n",
    "\n",
    "sensoren.add_sensor(\"HCRSR04\", hcrsr04_sensor1)"
   ]
  },
  {
   "cell_type": "code",
   "execution_count": null,
   "metadata": {},
   "outputs": [],
   "source": [
    "HCR = sensoren.get_sensor(\"HCRSR04\")"
   ]
  },
  {
   "cell_type": "code",
   "execution_count": null,
   "metadata": {},
   "outputs": [],
   "source": [
    "while True:\n",
    "    distanz = HCR.entfernung()\n",
    "    print (\"Distanz = %.1f cm\" % distanz)\n",
    "    time.sleep(1)"
   ]
  }
 ],
 "metadata": {
  "language_info": {
   "name": "python"
  },
  "orig_nbformat": 4
 },
 "nbformat": 4,
 "nbformat_minor": 2
}
