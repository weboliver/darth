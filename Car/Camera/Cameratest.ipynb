{
 "cells": [
  {
   "cell_type": "code",
   "execution_count": 1,
   "id": "bbc12535-cfbd-4c63-bea7-429caa0f064b",
   "metadata": {},
   "outputs": [],
   "source": [
    "from csi_camera import CSICamera\n",
    "camera = CSICamera(width=1220, height=720)"
   ]
  },
  {
   "cell_type": "code",
   "execution_count": 2,
   "id": "1093d54f-e91e-4df6-8e81-8c17710e8352",
   "metadata": {},
   "outputs": [
    {
     "name": "stdout",
     "output_type": "stream",
     "text": [
      "(720, 1220, 3)\n"
     ]
    }
   ],
   "source": [
    "image = camera.read()\n",
    "\n",
    "print(image.shape)"
   ]
  },
  {
   "cell_type": "code",
   "execution_count": 3,
   "id": "796f7b0d-2f75-4016-b0d3-69371c8e709d",
   "metadata": {},
   "outputs": [],
   "source": [
    "import cv2\n",
    "\n",
    "def bgr8_to_jpeg(value, quality=75):\n",
    "    return bytes(cv2.imencode('.jpg', value)[1])"
   ]
  },
  {
   "cell_type": "code",
   "execution_count": 4,
   "id": "18553bc7-5a41-4dd0-b150-bf319a802d79",
   "metadata": {},
   "outputs": [
    {
     "data": {
      "application/vnd.jupyter.widget-view+json": {
       "model_id": "470fdadccee445b3ab3bab6e593432a5",
       "version_major": 2,
       "version_minor": 0
      },
      "text/plain": [
       "Image(value=b'\\xff\\xd8\\xff\\xe0\\x00\\x10JFIF\\x00\\x01\\x01\\x00\\x00\\x01\\x00\\x01\\x00\\x00\\xff\\xdb\\x00C\\x00\\x02\\x01\\x0…"
      ]
     },
     "metadata": {},
     "output_type": "display_data"
    }
   ],
   "source": [
    "import ipywidgets\n",
    "from IPython.display import display\n",
    "\n",
    "image_widget = ipywidgets.Image(format='jpeg')\n",
    "\n",
    "image_widget.value = bgr8_to_jpeg(image)\n",
    "\n",
    "display(image_widget)"
   ]
  },
  {
   "cell_type": "code",
   "execution_count": 10,
   "id": "4e45c25f-6468-4a70-a9d0-8f23623961f7",
   "metadata": {},
   "outputs": [],
   "source": [
    "camera.running = True\n",
    "def update_image(change):\n",
    "    image = change['new']\n",
    "    image_widget.value = bgr8_to_jpeg(image)\n",
    "    \n",
    "camera.observe(update_image, names='value')"
   ]
  },
  {
   "cell_type": "code",
   "execution_count": 6,
   "id": "37eb6106-d92c-4e6f-bf57-1895eb28e5c7",
   "metadata": {},
   "outputs": [],
   "source": [
    "camera.unobserve(update_image, names='value')"
   ]
  },
  {
   "cell_type": "code",
   "execution_count": 7,
   "id": "14aee98c-fb04-4e64-b5bf-6d012a07ff1e",
   "metadata": {},
   "outputs": [],
   "source": [
    "import traitlets\n",
    "\n",
    "camera_link = traitlets.dlink((camera, 'value'), (image_widget, 'value'), transform=bgr8_to_jpeg)"
   ]
  },
  {
   "cell_type": "code",
   "execution_count": 8,
   "id": "ff646c8e-d7bd-464a-ac92-7b2039866148",
   "metadata": {},
   "outputs": [],
   "source": [
    "camera_link.unlink()"
   ]
  },
  {
   "cell_type": "code",
   "execution_count": 9,
   "id": "95b96037-6058-4b78-aaf0-3c6dfc27a382",
   "metadata": {},
   "outputs": [
    {
     "name": "stdout",
     "output_type": "stream",
     "text": [
      "tensor([[0.3303, 0.1374, 0.5612],\n",
      "        [0.7707, 0.4009, 0.9501],\n",
      "        [0.2162, 0.3562, 0.9253],\n",
      "        [0.7775, 0.7847, 0.8441],\n",
      "        [0.2087, 0.5324, 0.3454]])\n"
     ]
    }
   ],
   "source": [
    "import torch\n",
    "x = torch.rand(5, 3)\n",
    "print(x)"
   ]
  }
 ],
 "metadata": {
  "interpreter": {
   "hash": "31f2aee4e71d21fbe5cf8b01ff0e069b9275f58929596ceb00d14d90e3e16cd6"
  },
  "kernelspec": {
   "display_name": "Python 3",
   "language": "python",
   "name": "python3"
  },
  "language_info": {
   "codemirror_mode": {
    "name": "ipython",
    "version": 3
   },
   "file_extension": ".py",
   "mimetype": "text/x-python",
   "name": "python",
   "nbconvert_exporter": "python",
   "pygments_lexer": "ipython3",
   "version": "3.6.9"
  }
 },
 "nbformat": 4,
 "nbformat_minor": 5
}
