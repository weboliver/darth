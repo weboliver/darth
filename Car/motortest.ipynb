{
 "cells": [
  {
   "cell_type": "code",
   "execution_count": null,
   "metadata": {},
   "outputs": [],
   "source": [
    "import time\n",
    "from Motor.servo_motor import ServoMotorController\n",
    "\n",
    "servo_motor = ServoMotorController(default_speed=50, max_speed=100)\n",
    "servo_motor.add_motor(\"HINTEN\", 'UART2_CTS', 'DAP4_FS', 'GPIO_PE6', 100)\n",
    "servo_motor.start_motor()"
   ]
  },
  {
   "cell_type": "code",
   "execution_count": null,
   "metadata": {},
   "outputs": [],
   "source": [
    "servo_motor.car_move_forwards(50, 1.0)\n",
    "# servo_motor.stop()"
   ]
  },
  {
   "cell_type": "code",
   "execution_count": null,
   "metadata": {},
   "outputs": [],
   "source": [
    "servo_motor.car_stearing(175)\n",
    "time.sleep(1)\n",
    "servo_motor.car_stearing(95)\n",
    "time.sleep(1)\n",
    "servo_motor.car_stearing(120)\n",
    "time.sleep(1)"
   ]
  },
  {
   "cell_type": "code",
   "execution_count": null,
   "metadata": {},
   "outputs": [],
   "source": [
    "servo_motor.stop_motor()"
   ]
  },
  {
   "cell_type": "code",
   "execution_count": null,
   "metadata": {},
   "outputs": [],
   "source": [
    "GPIO.cleanup()"
   ]
  },
  {
   "cell_type": "code",
   "execution_count": null,
   "metadata": {},
   "outputs": [],
   "source": [
    "# sudo busybox devmem 0x700031fc 32 0x45\n",
    "# sudo busybox devmem 0x6000d504 32 0x2"
   ]
  },
  {
   "cell_type": "code",
   "execution_count": null,
   "metadata": {},
   "outputs": [],
   "source": [
    "GPIO.JETSON_INFO"
   ]
  },
  {
   "cell_type": "code",
   "execution_count": null,
   "metadata": {},
   "outputs": [],
   "source": [
    "from adafruit_servokit import ServoKit\n",
    "kit = ServoKit(channels=16)\n",
    "kit.servo[0].angle=120"
   ]
  },
  {
   "cell_type": "code",
   "execution_count": null,
   "metadata": {},
   "outputs": [],
   "source": [
    "kit.servo[0].angle=95"
   ]
  },
  {
   "cell_type": "code",
   "execution_count": null,
   "metadata": {},
   "outputs": [],
   "source": [
    "kit.servo[0].angle=180"
   ]
  },
  {
   "cell_type": "code",
   "execution_count": null,
   "metadata": {},
   "outputs": [],
   "source": [
    "\n",
    "import Jetson.GPIO as GPIO\n",
    "bcm_to_tegra = {\n",
    "k: list(GPIO.gpio_pin_data.get_data()[-1]['TEGRA_SOC'].keys())[i] for i, k in enumerate(GPIO.gpio_pin_data.get_data()[-1]['BOARD'])}\n",
    "\n",
    "for k, v in bcm_to_tegra.items():\n",
    "    print('board #:', k, 'tegra:', v)"
   ]
  },
  {
   "cell_type": "code",
   "execution_count": null,
   "metadata": {},
   "outputs": [],
   "source": [
    "import time\n",
    "\n",
    "import Jetson.GPIO as GPIO\n",
    "\n",
    "GPIO.setmode(GPIO.TEGRA_SOC)\n",
    "GPIO.setwarnings(False)\n",
    "GPIO.setup(35, GPIO.OUT)\n",
    "GPIO.setup('36', GPIO.OUT)\n",
    "GPIO.setup(33, GPIO.OUT)\n",
    "result = GPIO.PWM(33,100)\n",
    "result.start(0)\n",
    "result.ChangeDutyCycle(50)\n",
    "GPIO.output(35, True)\n",
    "GPIO.output(36, False)\n",
    "time.sleep(1.5)\n",
    "result.ChangeDutyCycle(0)\n",
    "# result.stop()\n",
    "# GPIO.cleanup()\n"
   ]
  }
 ],
 "metadata": {
  "interpreter": {
   "hash": "31f2aee4e71d21fbe5cf8b01ff0e069b9275f58929596ceb00d14d90e3e16cd6"
  },
  "kernelspec": {
   "display_name": "Python 3.6.9 64-bit",
   "name": "python3"
  },
  "language_info": {
   "codemirror_mode": {
    "name": "ipython",
    "version": 3
   },
   "file_extension": ".py",
   "mimetype": "text/x-python",
   "name": "python",
   "nbconvert_exporter": "python",
   "pygments_lexer": "ipython3",
   "version": "3.6.9"
  },
  "orig_nbformat": 4
 },
 "nbformat": 4,
 "nbformat_minor": 2
}
