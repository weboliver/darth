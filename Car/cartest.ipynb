{
 "cells": [
  {
   "cell_type": "code",
   "execution_count": null,
   "metadata": {},
   "outputs": [],
   "source": [
    "from Motor.servo_motor import ServoMotorController\n",
    "from XBoxController.xboxcontroller import XBoxController\n",
    "\n",
    "xboxController = XBoxController()\n",
    "servo_motor = ServoMotorController(default_speed=80, max_speed=100)\n",
    "servo_motor.add_motor(\"HINTEN\", 'UART2_CTS', 'DAP4_FS', 'GPIO_PE6', 50)"
   ]
  },
  {
   "cell_type": "code",
   "execution_count": null,
   "metadata": {},
   "outputs": [],
   "source": [
    "from car import Car\n",
    "newcar = Car(\"Darth Car\", servo_motor, xboxController)\n",
    "newcar.add_heartbeat(\"Camera Observer\", 0.5)"
   ]
  },
  {
   "cell_type": "code",
   "execution_count": null,
   "metadata": {},
   "outputs": [],
   "source": [
    "newcar.get_heartbeat(\"Camera Observer\").display_slider()"
   ]
  },
  {
   "cell_type": "code",
   "execution_count": null,
   "metadata": {},
   "outputs": [],
   "source": [
    "import time\n",
    "motorengine = newcar.get_motorengine()\n",
    "# motorengine.car_move_forwards(40, 1)\n",
    "# motorengine.car_move_backwards(40, 1)\n",
    "motorengine.leftsteering()\n",
    "time.sleep(0.2)\n",
    "motorengine.rightsteering()\n",
    "time.sleep(0.2)\n",
    "motorengine.straightsteering()"
   ]
  },
  {
   "cell_type": "code",
   "execution_count": null,
   "metadata": {},
   "outputs": [],
   "source": [
    "newcar.start()"
   ]
  },
  {
   "cell_type": "code",
   "execution_count": null,
   "metadata": {},
   "outputs": [],
   "source": [
    "newcar.drive()"
   ]
  },
  {
   "cell_type": "code",
   "execution_count": null,
   "metadata": {},
   "outputs": [],
   "source": [
    "newcar.stop()"
   ]
  }
 ],
 "metadata": {
  "interpreter": {
   "hash": "31f2aee4e71d21fbe5cf8b01ff0e069b9275f58929596ceb00d14d90e3e16cd6"
  },
  "kernelspec": {
   "display_name": "Python 3",
   "language": "python",
   "name": "python3"
  },
  "language_info": {
   "codemirror_mode": {
    "name": "ipython",
    "version": 3
   },
   "file_extension": ".py",
   "mimetype": "text/x-python",
   "name": "python",
   "nbconvert_exporter": "python",
   "pygments_lexer": "ipython3",
   "version": "3.6.9"
  }
 },
 "nbformat": 4,
 "nbformat_minor": 4
}
